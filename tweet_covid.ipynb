{
  "nbformat": 4,
  "nbformat_minor": 0,
  "metadata": {
    "colab": {
      "name": "tweet-covid.ipynb",
      "provenance": [],
      "collapsed_sections": [
        "6Y8vYFkH5Ytv"
      ],
      "toc_visible": true,
      "include_colab_link": true
    },
    "kernelspec": {
      "name": "python3",
      "display_name": "Python 3"
    }
  },
  "cells": [
    {
      "cell_type": "markdown",
      "metadata": {
        "id": "view-in-github",
        "colab_type": "text"
      },
      "source": [
        "<a href=\"https://colab.research.google.com/github/wfsilva-uea/tweet-covid/blob/master/tweet_covid.ipynb\" target=\"_parent\"><img src=\"https://colab.research.google.com/assets/colab-badge.svg\" alt=\"Open In Colab\"/></a>"
      ]
    },
    {
      "cell_type": "markdown",
      "metadata": {
        "id": "oyMYhv4ZELID"
      },
      "source": [
        "\n",
        "![image.png](data:image/png;base64,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)\n",
        "# Pós-graduação Lato Sensu em Ciência de Dados\n",
        "# Programação para Ciência de Dados\n",
        "## Relatório Análise Questionamentos COVID-19\n",
        "\n",
        "> Equipe : Samuel Galiza e Wendel Silva"
      ]
    },
    {
      "cell_type": "markdown",
      "metadata": {
        "id": "HoLck_YYI3nm"
      },
      "source": [
        "O trabalho consiste em carregar um 'dataset' com mais de um milhão de seiscentas(1.600.000,00) mensagens, tendo com fonte de dados a plataforma de mídia: Twitter, e extrair os principais questionamentos relacionados ao COVID-19. \n"
      ]
    },
    {
      "cell_type": "markdown",
      "metadata": {
        "id": "FMd-TX7DZ7EZ"
      },
      "source": [
        "## Importar dependências\n",
        "\n"
      ]
    },
    {
      "cell_type": "markdown",
      "metadata": {
        "id": "zdvjM2M5VieV"
      },
      "source": [
        " * Mapear pasta Google Drive para acesso ao repositório contendo o arquivo '*.csv' com as mensagens de twiters; \n",
        " * Montar o diretório na máquina 'colab'."
      ]
    },
    {
      "cell_type": "code",
      "metadata": {
        "id": "Ratx17gN29sv",
        "outputId": "4c568ef2-5fbf-46c5-8225-4419659fde8a",
        "colab": {
          "base_uri": "https://localhost:8080/"
        }
      },
      "source": [
        "from google.colab import drive\n",
        "drive.mount('/content/drive')"
      ],
      "execution_count": null,
      "outputs": [
        {
          "output_type": "stream",
          "text": [
            "Mounted at /content/drive\n"
          ],
          "name": "stdout"
        }
      ]
    },
    {
      "cell_type": "markdown",
      "metadata": {
        "id": "KLVe1okRW54u"
      },
      "source": [
        "* Importar funcionalidades da biblioteca NLTK para o processamento sobre linguagens naturais para tratar o texto.\n",
        "\n",
        "\n"
      ]
    },
    {
      "cell_type": "code",
      "metadata": {
        "id": "3kpqpfJKrp8-",
        "outputId": "01d7d3f5-8f66-46c7-e499-d3b821f8b0e6",
        "colab": {
          "base_uri": "https://localhost:8080/"
        }
      },
      "source": [
        "import nltk\n",
        "nltk.download('punkt')\n",
        "nltk.download('rslp')\n",
        "nltk.download('stopwords')"
      ],
      "execution_count": null,
      "outputs": [
        {
          "output_type": "stream",
          "text": [
            "[nltk_data] Downloading package punkt to /root/nltk_data...\n",
            "[nltk_data]   Unzipping tokenizers/punkt.zip.\n",
            "[nltk_data] Downloading package rslp to /root/nltk_data...\n",
            "[nltk_data]   Unzipping stemmers/rslp.zip.\n",
            "[nltk_data] Downloading package stopwords to /root/nltk_data...\n",
            "[nltk_data]   Unzipping corpora/stopwords.zip.\n"
          ],
          "name": "stdout"
        },
        {
          "output_type": "execute_result",
          "data": {
            "text/plain": [
              "True"
            ]
          },
          "metadata": {
            "tags": []
          },
          "execution_count": 2
        }
      ]
    },
    {
      "cell_type": "markdown",
      "metadata": {
        "id": "wcY2OWpCXued"
      },
      "source": [
        "* Importar bibliotecas úteis que fornece ferramentas de análise de dados e estruturas de dados. "
      ]
    },
    {
      "cell_type": "code",
      "metadata": {
        "id": "iaMs7wFdMVbl"
      },
      "source": [
        "import re\n",
        "import numpy as np\n",
        "\n",
        "import pandas as pd\n",
        "pd.options.mode.chained_assignment = None"
      ],
      "execution_count": null,
      "outputs": []
    },
    {
      "cell_type": "markdown",
      "metadata": {
        "id": "OBUyg4VwYENB"
      },
      "source": [
        "* Importar bibliotecas para plotagem de gráficos."
      ]
    },
    {
      "cell_type": "code",
      "metadata": {
        "id": "nZQg3Ld_YAb7"
      },
      "source": [
        "import matplotlib.pyplot as plt\n",
        "%matplotlib inline\n",
        "\n",
        "import seaborn as sns\n",
        "sns.set(style='whitegrid')"
      ],
      "execution_count": null,
      "outputs": []
    },
    {
      "cell_type": "markdown",
      "metadata": {
        "id": "pyhj3nVJm_11"
      },
      "source": [
        "* Importar biblioteca para tratar acentuação das palavras"
      ]
    },
    {
      "cell_type": "code",
      "metadata": {
        "id": "6Ml2IFa7m_Hf"
      },
      "source": [
        "from unicodedata import normalize"
      ],
      "execution_count": null,
      "outputs": []
    }
  ]
}