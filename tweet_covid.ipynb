{
  "nbformat": 4,
  "nbformat_minor": 0,
  "metadata": {
    "colab": {
      "name": "tweet-covid.ipynb",
      "provenance": [],
      "collapsed_sections": [
        "FMd-TX7DZ7EZ",
        "-_AgmrEK4ylb",
        "xFLHnePyaP-9",
        "DA12hMkmPIje",
        "7t3cga-R9ULI",
        "tfHiwoX2_MoB"
      ],
      "include_colab_link": true
    },
    "kernelspec": {
      "name": "python3",
      "display_name": "Python 3"
    }
  },
  "cells": [
    {
      "cell_type": "markdown",
      "metadata": {
        "id": "view-in-github",
        "colab_type": "text"
      },
      "source": [
        "<a href=\"https://colab.research.google.com/github/wfsilva-uea/tweet-covid/blob/master/tweet_covid.ipynb\" target=\"_parent\"><img src=\"https://colab.research.google.com/assets/colab-badge.svg\" alt=\"Open In Colab\"/></a>"
      ]
    },
    {
      "cell_type": "markdown",
      "metadata": {
        "id": "oyMYhv4ZELID"
      },
      "source": [
        "\n",
        "![image.png](data:image/png;base64,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)\n",
        "# Pós-graduação Lato Sensu em Ciência de Dados\n",
        "# Programação para Ciência de Dados\n",
        "## Relatório Análise Questionamentos COVID-19\n",
        "\n",
        "> Equipe : Wendel Silva e Samuel Galiza"
      ]
    },
    {
      "cell_type": "markdown",
      "metadata": {
        "id": "HoLck_YYI3nm"
      },
      "source": [
        "O trabalho consiste em carregar um 'dataset' com mais de um milhão de seiscentas(1.600.000,00) mensagens, tendo com fonte de dados a plataforma de mídia: Twitter, e extrair os principais questionamentos relacionados ao COVID-19. \n"
      ]
    },
    {
      "cell_type": "markdown",
      "metadata": {
        "id": "FMd-TX7DZ7EZ"
      },
      "source": [
        "## Importar dependências\n",
        "\n"
      ]
    },
    {
      "cell_type": "markdown",
      "metadata": {
        "id": "zdvjM2M5VieV"
      },
      "source": [
        " * Mapear pasta Google Drive para acesso ao repositório contendo o arquivo '*.csv' com as mensagens de twiters; \n",
        " * Montar o diretório na máquina 'colab'."
      ]
    },
    {
      "cell_type": "code",
      "metadata": {
        "id": "Ratx17gN29sv",
        "outputId": "9f0a36c2-faf0-4cc3-ceef-562492183566",
        "colab": {
          "base_uri": "https://localhost:8080/",
          "height": 34
        }
      },
      "source": [
        "from google.colab import drive\n",
        "drive.mount('/content/drive')"
      ],
      "execution_count": 185,
      "outputs": [
        {
          "output_type": "stream",
          "text": [
            "Drive already mounted at /content/drive; to attempt to forcibly remount, call drive.mount(\"/content/drive\", force_remount=True).\n"
          ],
          "name": "stdout"
        }
      ]
    },
    {
      "cell_type": "markdown",
      "metadata": {
        "id": "KLVe1okRW54u"
      },
      "source": [
        "* Importar funcionalidades da biblioteca NLTK para o processamento sobre linguagens naturais para tratar o texto.\n",
        "\n",
        "\n"
      ]
    },
    {
      "cell_type": "code",
      "metadata": {
        "id": "3kpqpfJKrp8-",
        "outputId": "fc35ffac-de88-4b75-9bde-bbad3d5078b1",
        "colab": {
          "base_uri": "https://localhost:8080/",
          "height": 134
        }
      },
      "source": [
        "import nltk\n",
        "nltk.download('punkt')\n",
        "nltk.download('rslp')\n",
        "nltk.download('stopwords')"
      ],
      "execution_count": 186,
      "outputs": [
        {
          "output_type": "stream",
          "text": [
            "[nltk_data] Downloading package punkt to /root/nltk_data...\n",
            "[nltk_data]   Package punkt is already up-to-date!\n",
            "[nltk_data] Downloading package rslp to /root/nltk_data...\n",
            "[nltk_data]   Package rslp is already up-to-date!\n",
            "[nltk_data] Downloading package stopwords to /root/nltk_data...\n",
            "[nltk_data]   Package stopwords is already up-to-date!\n"
          ],
          "name": "stdout"
        },
        {
          "output_type": "execute_result",
          "data": {
            "text/plain": [
              "True"
            ]
          },
          "metadata": {
            "tags": []
          },
          "execution_count": 186
        }
      ]
    },
    {
      "cell_type": "markdown",
      "metadata": {
        "id": "wcY2OWpCXued"
      },
      "source": [
        "* Importar bibliotecas úteis que fornece ferramentas de análise de dados e estruturas de dados. "
      ]
    },
    {
      "cell_type": "code",
      "metadata": {
        "id": "iaMs7wFdMVbl"
      },
      "source": [
        "import re\n",
        "import numpy as np\n",
        "\n",
        "import pandas as pd\n",
        "pd.options.mode.chained_assignment = None"
      ],
      "execution_count": 187,
      "outputs": []
    },
    {
      "cell_type": "markdown",
      "metadata": {
        "id": "OBUyg4VwYENB"
      },
      "source": [
        "* Importar bibliotecas para plotagem de gráficos."
      ]
    },
    {
      "cell_type": "code",
      "metadata": {
        "id": "nZQg3Ld_YAb7"
      },
      "source": [
        "import matplotlib.pyplot as plt\n",
        "%matplotlib inline\n",
        "\n",
        "import seaborn as sns\n",
        "sns.set(style='whitegrid')"
      ],
      "execution_count": 188,
      "outputs": []
    },
    {
      "cell_type": "markdown",
      "metadata": {
        "id": "pyhj3nVJm_11"
      },
      "source": [
        "* Importar biblioteca para tratar acentuação das palavras"
      ]
    },
    {
      "cell_type": "code",
      "metadata": {
        "id": "6Ml2IFa7m_Hf"
      },
      "source": [
        "from unicodedata import normalize"
      ],
      "execution_count": 189,
      "outputs": []
    },
    {
      "cell_type": "markdown",
      "metadata": {
        "id": "-_AgmrEK4ylb"
      },
      "source": [
        "## Treinar modelo para classificação"
      ]
    },
    {
      "cell_type": "markdown",
      "metadata": {
        "id": "vFrZfKStuBll"
      },
      "source": [
        "Na computação, uma stopword (palavra vazia) é uma palavra que é removida antes ou após o processamento de um texto em linguagem natural."
      ]
    },
    {
      "cell_type": "code",
      "metadata": {
        "id": "PanDSdKhuB9r"
      },
      "source": [
        "from nltk.corpus import stopwords\n",
        "stopwords = stopwords.words('portuguese')"
      ],
      "execution_count": 190,
      "outputs": []
    },
    {
      "cell_type": "markdown",
      "metadata": {
        "id": "pjb49fhlvwvl"
      },
      "source": [
        "A classe RSLPStemmer serve para diminuirmos a palavra até a sua raiz/base, pois assim, conseguimos tratar as palavras originais e suas respectivas derivações de uma mesma maneira. Exemplo: As palavras Correr e Corrida quando submetidas à nossa função de stemming, ambas as palavras serão diminuídas até a base Corr. \n",
        "\n",
        "A funcão abaixo irá quebrar a frase em palavras, remover os acentos e palavras vazias (stopwords) e diminuir a palavra até sua base."
      ]
    },
    {
      "cell_type": "code",
      "metadata": {
        "id": "CSWkzrxAWP7Z"
      },
      "source": [
        "from nltk import stem\n",
        "stemmer = stem.RSLPStemmer()\n",
        "\n",
        "def normalize_texto(texto):\n",
        "  texto = re.sub('[!-@[-`{-¿ÆÐÑ×ØÝ-ßä-æëðñö-øý-ÿ]', '', texto)\n",
        "  texto = normalize('NFKD', texto).encode('ASCII', 'ignore').decode('ASCII')\n",
        "  texto = texto.lower()\n",
        "  texto = nltk.word_tokenize(texto)\n",
        "  return [stemmer.stem(word) for word in texto if word not in stopwords]"
      ],
      "execution_count": 191,
      "outputs": []
    },
    {
      "cell_type": "markdown",
      "metadata": {
        "id": "3yUI1VkMz4dI"
      },
      "source": [
        "Função para treinar os o conjunto de dados modelo contendo as 4 classes (organizações, medicamento, doença e pessoas)"
      ]
    },
    {
      "cell_type": "code",
      "metadata": {
        "id": "j00U0eAwvem4"
      },
      "source": [
        "def treinar(dados):\n",
        "  classes = {}\n",
        "\n",
        "  for idx, rows in dados.iterrows():        \n",
        "    cls = rows['classificacao']\n",
        "    if cls not in classes:\n",
        "      classes[cls] = {}\n",
        "\n",
        "    normalizado = normalize_texto(rows['texto'])\n",
        "    for t in normalizado:\n",
        "      if t not in classes[cls]:\n",
        "        classes[cls][t] = 1\n",
        "      else:\n",
        "        classes[cls][t] += 1\n",
        "  return classes"
      ],
      "execution_count": 192,
      "outputs": []
    },
    {
      "cell_type": "markdown",
      "metadata": {
        "id": "0MsIKlsJ0C2W"
      },
      "source": [
        "Carregar dataset de classificação e treinar modelo"
      ]
    },
    {
      "cell_type": "code",
      "metadata": {
        "id": "4lSs4sIUgDuO"
      },
      "source": [
        "classificador = pd.read_csv('/content/drive/My Drive/dataset/classificador.csv')\n",
        "classificador = treinar(classificador)"
      ],
      "execution_count": 193,
      "outputs": []
    },
    {
      "cell_type": "markdown",
      "metadata": {
        "id": "ApnIRUA03BVq"
      },
      "source": [
        "Calcular a pontuação de cada palavra do texto"
      ]
    },
    {
      "cell_type": "code",
      "metadata": {
        "id": "1MhvxrLBbNrd"
      },
      "source": [
        "def calcular_pontuacao(texto, classe):\n",
        "  pontuacao = 0 \n",
        "  normalizado = normalize_texto(texto)\n",
        "  for t in normalizado:\n",
        "    if t in classificador[classe]:\n",
        "      pontuacao += classificador[classe][t]\n",
        "  return pontuacao"
      ],
      "execution_count": 194,
      "outputs": []
    },
    {
      "cell_type": "markdown",
      "metadata": {
        "id": "9gc9lmAB3KMD"
      },
      "source": [
        "Classificar o texto de acordo com a pontuação das palavras"
      ]
    },
    {
      "cell_type": "code",
      "metadata": {
        "id": "-2kd70nMbNmk"
      },
      "source": [
        "def classifique(texto):\n",
        "  classe = 'outros'\n",
        "  pontuacao = 0   \n",
        "  for cls in classificador.keys():\n",
        "    pontuacao_atual = calcular_pontuacao(texto, cls)\n",
        "    if pontuacao_atual > pontuacao:\n",
        "      classe, pontuacao = cls, pontuacao_atual\n",
        "  return classe, pontuacao"
      ],
      "execution_count": 195,
      "outputs": []
    },
    {
      "cell_type": "code",
      "metadata": {
        "id": "285CNuDnbNks",
        "outputId": "d0266afc-490f-49a3-e227-d80ca0409249",
        "colab": {
          "base_uri": "https://localhost:8080/",
          "height": 34
        }
      },
      "source": [
        "classifique(\"\"\"Cloroquina faz mal pra saude?\"\"\")"
      ],
      "execution_count": 197,
      "outputs": [
        {
          "output_type": "execute_result",
          "data": {
            "text/plain": [
              "('medicamento', 1)"
            ]
          },
          "metadata": {
            "tags": []
          },
          "execution_count": 197
        }
      ]
    },
    {
      "cell_type": "markdown",
      "metadata": {
        "id": "xFLHnePyaP-9"
      },
      "source": [
        "## Carregar dataset e extrair o DuvidasDB"
      ]
    },
    {
      "cell_type": "markdown",
      "metadata": {
        "id": "R9I4wLa7YM3N"
      },
      "source": [
        "* Carregar dataset de twiters e armazenar em um dataframe pandas"
      ]
    },
    {
      "cell_type": "code",
      "metadata": {
        "id": "T2a4UiwooUbt"
      },
      "source": [
        "df = pd.read_csv('/content/drive/My Drive/dataset/dados-curso-completo.csv')"
      ],
      "execution_count": 131,
      "outputs": []
    },
    {
      "cell_type": "markdown",
      "metadata": {
        "id": "vlbLVrmJgdO7"
      },
      "source": [
        "Verificar se o texto possui pelo menos uma interrogação, caso não substituir o texto por None. O propósito é diminuir o tempo de execução na etapa de classificação, garantindo que o dataset tenha apenas publicações com perguntas."
      ]
    },
    {
      "cell_type": "code",
      "metadata": {
        "id": "VaHrTCh1cYil"
      },
      "source": [
        "duvidas = df['texto'].apply(lambda t: t if '?' in t else None).notnull()\n",
        "DuvidasDB = df[duvidas]"
      ],
      "execution_count": 132,
      "outputs": []
    },
    {
      "cell_type": "code",
      "metadata": {
        "id": "pWesb2YnlO1R",
        "outputId": "521e18fa-5ada-40bc-a20c-b76cd51762d5",
        "colab": {
          "base_uri": "https://localhost:8080/",
          "height": 296
        }
      },
      "source": [
        "DuvidasDB.head()"
      ],
      "execution_count": 133,
      "outputs": [
        {
          "output_type": "execute_result",
          "data": {
            "text/html": [
              "<div>\n",
              "<style scoped>\n",
              "    .dataframe tbody tr th:only-of-type {\n",
              "        vertical-align: middle;\n",
              "    }\n",
              "\n",
              "    .dataframe tbody tr th {\n",
              "        vertical-align: top;\n",
              "    }\n",
              "\n",
              "    .dataframe thead th {\n",
              "        text-align: right;\n",
              "    }\n",
              "</style>\n",
              "<table border=\"1\" class=\"dataframe\">\n",
              "  <thead>\n",
              "    <tr style=\"text-align: right;\">\n",
              "      <th></th>\n",
              "      <th>data</th>\n",
              "      <th>usuario</th>\n",
              "      <th>apelido</th>\n",
              "      <th>texto</th>\n",
              "      <th>retweet</th>\n",
              "      <th>seguidores</th>\n",
              "      <th>idioma</th>\n",
              "      <th>lugar</th>\n",
              "      <th>pais</th>\n",
              "      <th>sigla</th>\n",
              "      <th>latitude</th>\n",
              "      <th>longitude</th>\n",
              "      <th>hashtags</th>\n",
              "    </tr>\n",
              "  </thead>\n",
              "  <tbody>\n",
              "    <tr>\n",
              "      <th>0</th>\n",
              "      <td>2020-03-23 18:51:14</td>\n",
              "      <td>Gaboardi</td>\n",
              "      <td>fraslee</td>\n",
              "      <td>@BolsonaroSP Cade o fundão deputado??? Congres...</td>\n",
              "      <td>0</td>\n",
              "      <td>138</td>\n",
              "      <td>pt</td>\n",
              "      <td>NaN</td>\n",
              "      <td>NaN</td>\n",
              "      <td>NaN</td>\n",
              "      <td>NaN</td>\n",
              "      <td>NaN</td>\n",
              "      <td>[]</td>\n",
              "    </tr>\n",
              "    <tr>\n",
              "      <th>3</th>\n",
              "      <td>2020-04-01 21:11:07</td>\n",
              "      <td>🚩</td>\n",
              "      <td>santosodeto</td>\n",
              "      <td>Fumaça de cigarro pode propagar coronavírus? h...</td>\n",
              "      <td>0</td>\n",
              "      <td>1885</td>\n",
              "      <td>pt</td>\n",
              "      <td>NaN</td>\n",
              "      <td>NaN</td>\n",
              "      <td>NaN</td>\n",
              "      <td>NaN</td>\n",
              "      <td>NaN</td>\n",
              "      <td>[]</td>\n",
              "    </tr>\n",
              "    <tr>\n",
              "      <th>38</th>\n",
              "      <td>2020-06-25 11:09:19</td>\n",
              "      <td>Andreia Peraro</td>\n",
              "      <td>AndreiaPeraro</td>\n",
              "      <td>@ipratesMD @dr_pampers Será que corremos o ris...</td>\n",
              "      <td>0</td>\n",
              "      <td>86</td>\n",
              "      <td>pt</td>\n",
              "      <td>NaN</td>\n",
              "      <td>NaN</td>\n",
              "      <td>NaN</td>\n",
              "      <td>NaN</td>\n",
              "      <td>NaN</td>\n",
              "      <td>[]</td>\n",
              "    </tr>\n",
              "    <tr>\n",
              "      <th>45</th>\n",
              "      <td>2020-04-06 15:44:36</td>\n",
              "      <td>Diorgenes Pandini</td>\n",
              "      <td>diorpandini</td>\n",
              "      <td>Prioridade ?!\\n\\n #COVID19 #floripa #isolament...</td>\n",
              "      <td>0</td>\n",
              "      <td>219</td>\n",
              "      <td>pt</td>\n",
              "      <td>NaN</td>\n",
              "      <td>NaN</td>\n",
              "      <td>NaN</td>\n",
              "      <td>NaN</td>\n",
              "      <td>NaN</td>\n",
              "      <td>['COVID19', 'floripa', 'isolamento']</td>\n",
              "    </tr>\n",
              "    <tr>\n",
              "      <th>57</th>\n",
              "      <td>2020-03-30 00:43:36</td>\n",
              "      <td>Valnei do Val</td>\n",
              "      <td>vdoval</td>\n",
              "      <td>Que tal uma notícia boa, indo na contramão do ...</td>\n",
              "      <td>0</td>\n",
              "      <td>201</td>\n",
              "      <td>pt</td>\n",
              "      <td>NaN</td>\n",
              "      <td>NaN</td>\n",
              "      <td>NaN</td>\n",
              "      <td>NaN</td>\n",
              "      <td>NaN</td>\n",
              "      <td>[]</td>\n",
              "    </tr>\n",
              "  </tbody>\n",
              "</table>\n",
              "</div>"
            ],
            "text/plain": [
              "                   data  ...                              hashtags\n",
              "0   2020-03-23 18:51:14  ...                                    []\n",
              "3   2020-04-01 21:11:07  ...                                    []\n",
              "38  2020-06-25 11:09:19  ...                                    []\n",
              "45  2020-04-06 15:44:36  ...  ['COVID19', 'floripa', 'isolamento']\n",
              "57  2020-03-30 00:43:36  ...                                    []\n",
              "\n",
              "[5 rows x 13 columns]"
            ]
          },
          "metadata": {
            "tags": []
          },
          "execution_count": 133
        }
      ]
    },
    {
      "cell_type": "markdown",
      "metadata": {
        "id": "BzJIsO-m78sY"
      },
      "source": [
        "Criar coluna para armazenar apenas as perguntas e classes do dataset"
      ]
    },
    {
      "cell_type": "code",
      "metadata": {
        "id": "ZI_W6GfA7-qX"
      },
      "source": [
        "DuvidasDB['pergunta'] = ''\n",
        "DuvidasDB['classe'] = ''"
      ],
      "execution_count": 134,
      "outputs": []
    },
    {
      "cell_type": "markdown",
      "metadata": {
        "id": "26DPOcE8bnsK"
      },
      "source": [
        "Quebrar a coluna de texto em setenças usando a biblioteca nltk, este recurso divide um texto em uma lista de frases, usando um algoritmo não supervisionado para construir um modelo para abreviações de palavras, colocações e palavras que iniciam frases. "
      ]
    },
    {
      "cell_type": "code",
      "metadata": {
        "id": "lGa8jtY_bnvI"
      },
      "source": [
        "from nltk import tokenize\n",
        "DuvidasDB['texto'] = DuvidasDB['texto'].apply(tokenize.sent_tokenize)"
      ],
      "execution_count": 136,
      "outputs": []
    },
    {
      "cell_type": "markdown",
      "metadata": {
        "id": "GGjTY6wEbnxj"
      },
      "source": [
        "Classificar 'DuvidasDB' utilizando base de classificador.csv\n",
        "\n"
      ]
    },
    {
      "cell_type": "code",
      "metadata": {
        "id": "cawaDBdEbn2g"
      },
      "source": [
        "for idx, data in DuvidasDB.iterrows():\n",
        "  perguntas = set()\n",
        "  classes = set()\n",
        "  for texto in data['texto']:\n",
        "    if '?' in texto:\n",
        "      cls, frequencia = classifique(texto)\n",
        "      perguntas.add(texto)\n",
        "      classes.add(cls)\n",
        "  \n",
        "  if len(classes) > 1:\n",
        "    classes.discard('outros')\n",
        "  \n",
        "  DuvidasDB.at[idx, 'pergunta'] = perguntas\n",
        "  DuvidasDB.at[idx, 'classe'] = ','.join(classes)"
      ],
      "execution_count": 149,
      "outputs": []
    },
    {
      "cell_type": "code",
      "metadata": {
        "id": "-USblx98bNf0",
        "outputId": "bafc696a-8339-4cdd-a7f1-5e3b0721424a",
        "colab": {
          "base_uri": "https://localhost:8080/",
          "height": 343
        }
      },
      "source": [
        "DuvidasDB[['pergunta', 'classe']].head(10)"
      ],
      "execution_count": 150,
      "outputs": [
        {
          "output_type": "execute_result",
          "data": {
            "text/html": [
              "<div>\n",
              "<style scoped>\n",
              "    .dataframe tbody tr th:only-of-type {\n",
              "        vertical-align: middle;\n",
              "    }\n",
              "\n",
              "    .dataframe tbody tr th {\n",
              "        vertical-align: top;\n",
              "    }\n",
              "\n",
              "    .dataframe thead th {\n",
              "        text-align: right;\n",
              "    }\n",
              "</style>\n",
              "<table border=\"1\" class=\"dataframe\">\n",
              "  <thead>\n",
              "    <tr style=\"text-align: right;\">\n",
              "      <th></th>\n",
              "      <th>pergunta</th>\n",
              "      <th>classe</th>\n",
              "    </tr>\n",
              "  </thead>\n",
              "  <tbody>\n",
              "    <tr>\n",
              "      <th>0</th>\n",
              "      <td>{@BolsonaroSP Cade o fundão deputado???}</td>\n",
              "      <td>pessoas</td>\n",
              "    </tr>\n",
              "    <tr>\n",
              "      <th>3</th>\n",
              "      <td>{Fumaça de cigarro pode propagar coronavírus?}</td>\n",
              "      <td>doenca</td>\n",
              "    </tr>\n",
              "    <tr>\n",
              "      <th>38</th>\n",
              "      <td>{@ipratesMD @dr_pampers Será que corremos o ri...</td>\n",
              "      <td>outros</td>\n",
              "    </tr>\n",
              "    <tr>\n",
              "      <th>45</th>\n",
              "      <td>{Prioridade ?!}</td>\n",
              "      <td>outros</td>\n",
              "    </tr>\n",
              "    <tr>\n",
              "      <th>57</th>\n",
              "      <td>{Que tal uma notícia boa, indo na contramão do...</td>\n",
              "      <td>organizacoes</td>\n",
              "    </tr>\n",
              "    <tr>\n",
              "      <th>73</th>\n",
              "      <td>{@JoseMedeirosMT Seria isso algum tipo aleatór...</td>\n",
              "      <td>doenca</td>\n",
              "    </tr>\n",
              "    <tr>\n",
              "      <th>77</th>\n",
              "      <td>{\"Nova York é o novo epicentro da pandemia de ...</td>\n",
              "      <td>doenca</td>\n",
              "    </tr>\n",
              "    <tr>\n",
              "      <th>116</th>\n",
              "      <td>{@mitags Será por que o Bolsonaro não fez prop...</td>\n",
              "      <td>pessoas</td>\n",
              "    </tr>\n",
              "    <tr>\n",
              "      <th>118</th>\n",
              "      <td>{@JeanSCorrea7 Mas ele não deu a entender que ...</td>\n",
              "      <td>medicamento</td>\n",
              "    </tr>\n",
              "    <tr>\n",
              "      <th>119</th>\n",
              "      <td>{#perguntacorona \\nQuero saber se a covid tem ...</td>\n",
              "      <td>doenca</td>\n",
              "    </tr>\n",
              "  </tbody>\n",
              "</table>\n",
              "</div>"
            ],
            "text/plain": [
              "                                              pergunta        classe\n",
              "0             {@BolsonaroSP Cade o fundão deputado???}       pessoas\n",
              "3       {Fumaça de cigarro pode propagar coronavírus?}        doenca\n",
              "38   {@ipratesMD @dr_pampers Será que corremos o ri...        outros\n",
              "45                                     {Prioridade ?!}        outros\n",
              "57   {Que tal uma notícia boa, indo na contramão do...  organizacoes\n",
              "73   {@JoseMedeirosMT Seria isso algum tipo aleatór...        doenca\n",
              "77   {\"Nova York é o novo epicentro da pandemia de ...        doenca\n",
              "116  {@mitags Será por que o Bolsonaro não fez prop...       pessoas\n",
              "118  {@JeanSCorrea7 Mas ele não deu a entender que ...   medicamento\n",
              "119  {#perguntacorona \\nQuero saber se a covid tem ...        doenca"
            ]
          },
          "metadata": {
            "tags": []
          },
          "execution_count": 150
        }
      ]
    },
    {
      "cell_type": "code",
      "metadata": {
        "id": "ZGXvodUrG2Rq"
      },
      "source": [
        "DuvidasDB.to_csv('/content/drive/My Drive/dataset/perguntas_classificadas.csv')"
      ],
      "execution_count": 151,
      "outputs": []
    },
    {
      "cell_type": "markdown",
      "metadata": {
        "id": "DA12hMkmPIje"
      },
      "source": [
        "## Comparativo massa de dados Antes/Após classificação"
      ]
    },
    {
      "cell_type": "code",
      "metadata": {
        "id": "CtVaYnV5AcM5"
      },
      "source": [
        "df = pd.read_csv('/content/drive/My Drive/dataset/dados-curso-completo.csv')\n",
        "DuvidasDB = pd.read_csv('/content/drive/My Drive/dataset/perguntas_classificadas.csv')"
      ],
      "execution_count": 177,
      "outputs": []
    },
    {
      "cell_type": "markdown",
      "metadata": {
        "id": "xihQ3ZEcOhmw"
      },
      "source": [
        "* Massa de dados inicial, antes e depois da classificação"
      ]
    },
    {
      "cell_type": "code",
      "metadata": {
        "id": "8q49fgSOMLyq",
        "outputId": "bd3249c2-7f22-46cd-8b74-beaee8c343da",
        "colab": {
          "base_uri": "https://localhost:8080/",
          "height": 332
        }
      },
      "source": [
        "data = [\n",
        "    ['Antes', df.shape[0]],\n",
        "    ['Depois', DuvidasDB.shape[0]]\n",
        "]\n",
        "df_plot = pd.DataFrame(data, index=[0, 1], columns=['status', 'total de twitters'])\n",
        "plot = df_plot.plot(kind='bar', x='status', y='total de twitters')\n",
        "plot.set_title('Antes x Depois')\n",
        "plt.show()"
      ],
      "execution_count": 179,
      "outputs": [
        {
          "output_type": "display_data",
          "data": {
            "image/png": "[encoded data removed]",
            "text/plain": [
              "<Figure size 432x288 with 1 Axes>"
            ]
          },
          "metadata": {
            "tags": []
          }
        }
      ]
    },
    {
      "cell_type": "markdown",
      "metadata": {
        "id": "g8ALNr3kbXnF"
      },
      "source": [
        "* Verificamos as colunas com mais valores ausentes para esse dataset e notamos que 95% dos usuários não informam os dados de sua localização"
      ]
    },
    {
      "cell_type": "code",
      "metadata": {
        "id": "Rlp_7AUdayKn",
        "outputId": "6847c0e5-254d-47b6-80b4-9df98d7995b1",
        "colab": {
          "base_uri": "https://localhost:8080/",
          "height": 195
        }
      },
      "source": [
        "df_size = df.shape[0]\n",
        "df_plot = df.isnull().sum().sort_values(ascending=False).to_frame(name='total').head()\n",
        "df_plot['total'] = df_plot['total'].apply(lambda t: '%.2f%%' % (t * 100 / df_size))\n",
        "df_plot"
      ],
      "execution_count": 180,
      "outputs": [
        {
          "output_type": "execute_result",
          "data": {
            "text/html": [
              "<div>\n",
              "<style scoped>\n",
              "    .dataframe tbody tr th:only-of-type {\n",
              "        vertical-align: middle;\n",
              "    }\n",
              "\n",
              "    .dataframe tbody tr th {\n",
              "        vertical-align: top;\n",
              "    }\n",
              "\n",
              "    .dataframe thead th {\n",
              "        text-align: right;\n",
              "    }\n",
              "</style>\n",
              "<table border=\"1\" class=\"dataframe\">\n",
              "  <thead>\n",
              "    <tr style=\"text-align: right;\">\n",
              "      <th></th>\n",
              "      <th>total</th>\n",
              "    </tr>\n",
              "  </thead>\n",
              "  <tbody>\n",
              "    <tr>\n",
              "      <th>longitude</th>\n",
              "      <td>99.47%</td>\n",
              "    </tr>\n",
              "    <tr>\n",
              "      <th>latitude</th>\n",
              "      <td>99.47%</td>\n",
              "    </tr>\n",
              "    <tr>\n",
              "      <th>sigla</th>\n",
              "      <td>95.50%</td>\n",
              "    </tr>\n",
              "    <tr>\n",
              "      <th>pais</th>\n",
              "      <td>95.50%</td>\n",
              "    </tr>\n",
              "    <tr>\n",
              "      <th>lugar</th>\n",
              "      <td>95.50%</td>\n",
              "    </tr>\n",
              "  </tbody>\n",
              "</table>\n",
              "</div>"
            ],
            "text/plain": [
              "            total\n",
              "longitude  99.47%\n",
              "latitude   99.47%\n",
              "sigla      95.50%\n",
              "pais       95.50%\n",
              "lugar      95.50%"
            ]
          },
          "metadata": {
            "tags": []
          },
          "execution_count": 180
        }
      ]
    },
    {
      "cell_type": "markdown",
      "metadata": {
        "id": "hJhVcpyw3vWD"
      },
      "source": [
        "1. Sabendo que a carga de dados efetuada é um total de 1.658.825 linhas, podemos perceber que as variáveis acima não representam importância pois quase da sua totalidade está com valores vazios(NaN).\n",
        "\n",
        "2. Representando graficante, é possivel ver a distrbuição quase que igualitária de campos vazios no DataFrame fornecido\n",
        "\n",
        "\n"
      ]
    },
    {
      "cell_type": "code",
      "metadata": {
        "id": "wY7gFZjVoC-t",
        "outputId": "d3c10b92-3f64-4107-fd08-512bd8077df7",
        "colab": {
          "base_uri": "https://localhost:8080/",
          "height": 608
        }
      },
      "source": [
        "df_plot = df.isnull().sum().sort_values(ascending=False).to_frame(name='total').head()\n",
        "df_isnull_plot = df_plot['total'].dropna()\n",
        "plot = df_isnull_plot.plot.pie(y='total', figsize=(10, 10), autopct='%1.2f%%')\n",
        "plot.set_title('% DISTRIBUICAO DE DADOS NAN')"
      ],
      "execution_count": 181,
      "outputs": [
        {
          "output_type": "execute_result",
          "data": {
            "text/plain": [
              "Text(0.5, 1.0, '% DISTRIBUICAO DE DADOS NAN')"
            ]
          },
          "metadata": {
            "tags": []
          },
          "execution_count": 181
        },
        {
          "output_type": "display_data",
          "data": {
            "image/png": "[encoded data removed]",
            "text/plain": [
              "<Figure size 720x720 with 1 Axes>"
            ]
          },
          "metadata": {
            "tags": []
          }
        }
      ]
    },
    {
      "cell_type": "markdown",
      "metadata": {
        "id": "rWqs7pav6wtf"
      },
      "source": [
        "Excluindo as colunas sem representatividade, executando um 'Describe' , conseguimos alguns dados como: max de 'seguidores' e 'retweet'."
      ]
    },
    {
      "cell_type": "code",
      "metadata": {
        "id": "_rSlwWZvJWGP",
        "outputId": "135638c2-f05f-4039-be1d-2155f527ce84",
        "colab": {
          "base_uri": "https://localhost:8080/",
          "height": 284
        }
      },
      "source": [
        "def formata_valor(valor):\n",
        "  return '{:,.2f}'.format(valor).replace(',', ' ')\n",
        "  \n",
        "df_describe = df[['data','seguidores', 'retweet']].describe()\n",
        "df_describe['seguidores'] = df_describe['seguidores'].apply(formata_valor)\n",
        "df_describe['retweet'] = df_describe['retweet'].apply(formata_valor)\n",
        "df_describe"
      ],
      "execution_count": 182,
      "outputs": [
        {
          "output_type": "execute_result",
          "data": {
            "text/html": [
              "<div>\n",
              "<style scoped>\n",
              "    .dataframe tbody tr th:only-of-type {\n",
              "        vertical-align: middle;\n",
              "    }\n",
              "\n",
              "    .dataframe tbody tr th {\n",
              "        vertical-align: top;\n",
              "    }\n",
              "\n",
              "    .dataframe thead th {\n",
              "        text-align: right;\n",
              "    }\n",
              "</style>\n",
              "<table border=\"1\" class=\"dataframe\">\n",
              "  <thead>\n",
              "    <tr style=\"text-align: right;\">\n",
              "      <th></th>\n",
              "      <th>seguidores</th>\n",
              "      <th>retweet</th>\n",
              "    </tr>\n",
              "  </thead>\n",
              "  <tbody>\n",
              "    <tr>\n",
              "      <th>count</th>\n",
              "      <td>1 658 825.00</td>\n",
              "      <td>1 658 825.00</td>\n",
              "    </tr>\n",
              "    <tr>\n",
              "      <th>mean</th>\n",
              "      <td>32 572.06</td>\n",
              "      <td>197.85</td>\n",
              "    </tr>\n",
              "    <tr>\n",
              "      <th>std</th>\n",
              "      <td>368 029.99</td>\n",
              "      <td>6 337.64</td>\n",
              "    </tr>\n",
              "    <tr>\n",
              "      <th>min</th>\n",
              "      <td>0.00</td>\n",
              "      <td>0.00</td>\n",
              "    </tr>\n",
              "    <tr>\n",
              "      <th>25%</th>\n",
              "      <td>101.00</td>\n",
              "      <td>0.00</td>\n",
              "    </tr>\n",
              "    <tr>\n",
              "      <th>50%</th>\n",
              "      <td>380.00</td>\n",
              "      <td>0.00</td>\n",
              "    </tr>\n",
              "    <tr>\n",
              "      <th>75%</th>\n",
              "      <td>1 470.00</td>\n",
              "      <td>0.00</td>\n",
              "    </tr>\n",
              "    <tr>\n",
              "      <th>max</th>\n",
              "      <td>84 241 250.00</td>\n",
              "      <td>1 139 763.00</td>\n",
              "    </tr>\n",
              "  </tbody>\n",
              "</table>\n",
              "</div>"
            ],
            "text/plain": [
              "          seguidores       retweet\n",
              "count   1 658 825.00  1 658 825.00\n",
              "mean       32 572.06        197.85\n",
              "std       368 029.99      6 337.64\n",
              "min             0.00          0.00\n",
              "25%           101.00          0.00\n",
              "50%           380.00          0.00\n",
              "75%         1 470.00          0.00\n",
              "max    84 241 250.00  1 139 763.00"
            ]
          },
          "metadata": {
            "tags": []
          },
          "execution_count": 182
        }
      ]
    },
    {
      "cell_type": "markdown",
      "metadata": {
        "id": "7t3cga-R9ULI"
      },
      "source": [
        "## Sumarizando Classificação"
      ]
    },
    {
      "cell_type": "markdown",
      "metadata": {
        "id": "SqQXiKALWCB0"
      },
      "source": [
        "Podemos notar que o assunto mais falado foi sobre a doença"
      ]
    },
    {
      "cell_type": "code",
      "metadata": {
        "id": "uC6toZVuMm36",
        "outputId": "a02da349-a0ca-4752-f718-c2f1a142aa9f",
        "colab": {
          "base_uri": "https://localhost:8080/",
          "height": 608
        }
      },
      "source": [
        "df_classes = {}\n",
        "\n",
        "for idx, rows in DuvidasDB.iterrows():\n",
        "  for cls in rows['classe'].split(','):\n",
        "    cls = cls.strip()\n",
        "    if cls not in df_classes:\n",
        "      df_classes[cls] = 0\n",
        "    df_classes[cls] += 1\n",
        "\n",
        "df_classes = pd.DataFrame(df_classes, index=['total']).T\n",
        "\n",
        "plot = df_classes.plot.pie(y='total', figsize=(10, 10), autopct='%1.2f%%')\n",
        "plot.set_title('DISTRIBUICAO DE CLASSES')"
      ],
      "execution_count": 153,
      "outputs": [
        {
          "output_type": "execute_result",
          "data": {
            "text/plain": [
              "Text(0.5, 1.0, 'DISTRIBUICAO DE CLASSES')"
            ]
          },
          "metadata": {
            "tags": []
          },
          "execution_count": 153
        },
        {
          "output_type": "display_data",
          "data": {
            "image/png": "[encoded data removed]",
            "text/plain": [
              "<Figure size 720x720 with 1 Axes>"
            ]
          },
          "metadata": {
            "tags": []
          }
        }
      ]
    },
    {
      "cell_type": "markdown",
      "metadata": {
        "id": "8McH-4o2V4r3"
      },
      "source": [
        "Pessoas que falavam sobre doença, também escreviam sobre organizações e medicamentos\n"
      ]
    },
    {
      "cell_type": "code",
      "metadata": {
        "id": "-bvtEcYDUeKF",
        "outputId": "fb534936-c315-4371-8a67-f41c8c4c9d3e",
        "colab": {
          "base_uri": "https://localhost:8080/",
          "height": 545
        }
      },
      "source": [
        "df_plot_classes = DuvidasDB.value_counts('classe').to_frame(name='total')\n",
        "df_plot_classes"
      ],
      "execution_count": null,
      "outputs": [
        {
          "output_type": "execute_result",
          "data": {
            "text/html": [
              "<div>\n",
              "<style scoped>\n",
              "    .dataframe tbody tr th:only-of-type {\n",
              "        vertical-align: middle;\n",
              "    }\n",
              "\n",
              "    .dataframe tbody tr th {\n",
              "        vertical-align: top;\n",
              "    }\n",
              "\n",
              "    .dataframe thead th {\n",
              "        text-align: right;\n",
              "    }\n",
              "</style>\n",
              "<table border=\"1\" class=\"dataframe\">\n",
              "  <thead>\n",
              "    <tr style=\"text-align: right;\">\n",
              "      <th></th>\n",
              "      <th>total</th>\n",
              "    </tr>\n",
              "    <tr>\n",
              "      <th>classe</th>\n",
              "      <th></th>\n",
              "    </tr>\n",
              "  </thead>\n",
              "  <tbody>\n",
              "    <tr>\n",
              "      <th>doenca</th>\n",
              "      <td>83527</td>\n",
              "    </tr>\n",
              "    <tr>\n",
              "      <th>outros</th>\n",
              "      <td>58571</td>\n",
              "    </tr>\n",
              "    <tr>\n",
              "      <th>medicamento</th>\n",
              "      <td>12184</td>\n",
              "    </tr>\n",
              "    <tr>\n",
              "      <th>pessoas</th>\n",
              "      <td>12110</td>\n",
              "    </tr>\n",
              "    <tr>\n",
              "      <th>organizacoes</th>\n",
              "      <td>4368</td>\n",
              "    </tr>\n",
              "    <tr>\n",
              "      <th>doenca,pessoas</th>\n",
              "      <td>669</td>\n",
              "    </tr>\n",
              "    <tr>\n",
              "      <th>medicamento,pessoas</th>\n",
              "      <td>344</td>\n",
              "    </tr>\n",
              "    <tr>\n",
              "      <th>medicamento,doenca</th>\n",
              "      <td>297</td>\n",
              "    </tr>\n",
              "    <tr>\n",
              "      <th>organizacoes,doenca</th>\n",
              "      <td>294</td>\n",
              "    </tr>\n",
              "    <tr>\n",
              "      <th>organizacoes,pessoas</th>\n",
              "      <td>75</td>\n",
              "    </tr>\n",
              "    <tr>\n",
              "      <th>organizacoes,medicamento</th>\n",
              "      <td>53</td>\n",
              "    </tr>\n",
              "    <tr>\n",
              "      <th>organizacoes,doenca,pessoas</th>\n",
              "      <td>3</td>\n",
              "    </tr>\n",
              "    <tr>\n",
              "      <th>medicamento,doenca,pessoas</th>\n",
              "      <td>3</td>\n",
              "    </tr>\n",
              "    <tr>\n",
              "      <th>organizacoes,medicamento,pessoas</th>\n",
              "      <td>2</td>\n",
              "    </tr>\n",
              "    <tr>\n",
              "      <th>organizacoes,medicamento,doenca</th>\n",
              "      <td>1</td>\n",
              "    </tr>\n",
              "  </tbody>\n",
              "</table>\n",
              "</div>"
            ],
            "text/plain": [
              "                                  total\n",
              "classe                                 \n",
              "doenca                            83527\n",
              "outros                            58571\n",
              "medicamento                       12184\n",
              "pessoas                           12110\n",
              "organizacoes                       4368\n",
              "doenca,pessoas                      669\n",
              "medicamento,pessoas                 344\n",
              "medicamento,doenca                  297\n",
              "organizacoes,doenca                 294\n",
              "organizacoes,pessoas                 75\n",
              "organizacoes,medicamento             53\n",
              "organizacoes,doenca,pessoas           3\n",
              "medicamento,doenca,pessoas            3\n",
              "organizacoes,medicamento,pessoas      2\n",
              "organizacoes,medicamento,doenca       1"
            ]
          },
          "metadata": {
            "tags": []
          },
          "execution_count": 176
        }
      ]
    },
    {
      "cell_type": "markdown",
      "metadata": {
        "id": "rvO-cNm96s6o"
      },
      "source": [
        "* No gráfico abaixo, é possível notar que os meses MAR, ABR e MAI foram os que tiveram mais twitters sobre coronavirus"
      ]
    },
    {
      "cell_type": "code",
      "metadata": {
        "id": "ED7xUCSfY_4r",
        "outputId": "7e85accd-1bea-4cf4-d25a-5ac25add54c4",
        "colab": {
          "base_uri": "https://localhost:8080/",
          "height": 304
        }
      },
      "source": [
        "df_line_date = pd.to_datetime(DuvidasDB['data']).dt.strftime('%m/%Y')\n",
        "df_line_date = df_line_date.value_counts(ascending=False)\n",
        "df_line_date = df_line_date.to_frame(name='postagens')\n",
        "df1 = pd.DataFrame(df_line_date, columns=['data','postagens']).reset_index()\n",
        "df1 = df1.rename(columns = {'index': 'Mes'}, inplace = False)\n",
        "df1 = df1.sort_values(by='Mes')\n",
        "df1.plot(x ='Mes', y='postagens', kind = 'line')\n",
        "#criar titulo grafico 'aumento do  ume ro de perguntas'\n",
        "plt.title('AUMENTO DE POSTAGENS AO LOGO DOS MESES')\n",
        "plt.show()"
      ],
      "execution_count": 78,
      "outputs": [
        {
          "output_type": "display_data",
          "data": {
            "image/png": "[encoded data removed]",
            "text/plain": [
              "<Figure size 432x288 with 1 Axes>"
            ]
          },
          "metadata": {
            "tags": []
          }
        }
      ]
    },
    {
      "cell_type": "markdown",
      "metadata": {
        "id": "Vq-vcRxl9FaJ"
      },
      "source": [
        "* Percentual de questionamentos por lugar"
      ]
    },
    {
      "cell_type": "code",
      "metadata": {
        "id": "aqb36xdF88T7",
        "outputId": "3994bdae-708f-49c3-97b1-3ef5f6eb6dbe",
        "colab": {
          "base_uri": "https://localhost:8080/",
          "height": 608
        }
      },
      "source": [
        "df_places = DuvidasDB['lugar'].dropna()\n",
        "df_places = df_places.value_counts(ascending=False)\n",
        "df_places = df_places.head(10).to_frame(name='total')\n",
        "\n",
        "# plot chart\n",
        "plot = df_places.plot.pie(y='total', figsize=(10, 10), autopct='%1.2f%%')\n",
        "plot.set_title('TOP 10 CIDADES COM MAIOR ÍNDICE DE POSTAGEM')"
      ],
      "execution_count": 79,
      "outputs": [
        {
          "output_type": "execute_result",
          "data": {
            "text/plain": [
              "Text(0.5, 1.0, 'TOP 10 CIDADES COM MAIOR ÍNDICE DE POSTAGEM')"
            ]
          },
          "metadata": {
            "tags": []
          },
          "execution_count": 79
        },
        {
          "output_type": "display_data",
          "data": {
            "image/png": "[encoded data removed]",
            "text/plain": [
              "<Figure size 720x720 with 1 Axes>"
            ]
          },
          "metadata": {
            "tags": []
          }
        }
      ]
    },
    {
      "cell_type": "code",
      "metadata": {
        "id": "ojBP42xX-b0g",
        "outputId": "98e8c221-a9c5-41ae-a04f-0cc0a5a8553e",
        "colab": {
          "base_uri": "https://localhost:8080/",
          "height": 235
        }
      },
      "source": [
        "dfs = DuvidasDB.max()"
      ],
      "execution_count": 86,
      "outputs": [
        {
          "output_type": "execute_result",
          "data": {
            "text/plain": [
              "Unnamed: 0                                              1658821\n",
              "data                                        2020-06-30 23:59:57\n",
              "apelido                                                 zzzzxup\n",
              "texto         ['🥋😀 Bora treinar Karate durante o período de ...\n",
              "retweet                                                  616569\n",
              "seguidores                                             13104119\n",
              "idioma                                                       zh\n",
              "latitude                                                151.629\n",
              "longitude                                               52.8864\n",
              "hashtags                                                     []\n",
              "pergunta       {'🦁\\nE agora, que eu faço eu da vida sem você?'}\n",
              "classe                                              {'pessoas'}\n",
              "dtype: object"
            ]
          },
          "metadata": {
            "tags": []
          },
          "execution_count": 86
        }
      ]
    },
    {
      "cell_type": "code",
      "metadata": {
        "id": "0DRN9vcz9v9j",
        "outputId": "87d388e3-b644-4e86-91f3-5420a803b59a",
        "colab": {
          "base_uri": "https://localhost:8080/",
          "height": 102
        }
      },
      "source": [
        "#usuário com maior numero de seguidores \n",
        "dfs = df_places.copy()\n",
        "dfs1 = dfs.set_index('pais')\n",
        "dfs2 = dfs1.loc['Brazil']\n",
        "dfs3 = dfs2.loc[(dfs2['seguidores']) > 0]\n",
        "dfs3.max()"
      ],
      "execution_count": null,
      "outputs": [
        {
          "output_type": "execute_result",
          "data": {
            "text/plain": [
              "usuario           🧸lo\n",
              "lugar          Óbidos\n",
              "retweet         17697\n",
              "seguidores    9468554\n",
              "dtype: object"
            ]
          },
          "metadata": {
            "tags": []
          },
          "execution_count": 19
        }
      ]
    },
    {
      "cell_type": "code",
      "metadata": {
        "id": "sbxLzQ_85RB_",
        "outputId": "2b07a09f-93d0-447d-b704-44371d010136",
        "colab": {
          "base_uri": "https://localhost:8080/",
          "height": 34
        }
      },
      "source": [
        "dfr_places = colunas[['usuario','pais','lugar','retweet', 'seguidores']].dropna()\n",
        "dfr_places\n",
        "dfr = dfr_places.copy()\n",
        "dfr.retweet.max()"
      ],
      "execution_count": null,
      "outputs": [
        {
          "output_type": "execute_result",
          "data": {
            "text/plain": [
              "17697"
            ]
          },
          "metadata": {
            "tags": []
          },
          "execution_count": 149
        }
      ]
    }
  ]
}